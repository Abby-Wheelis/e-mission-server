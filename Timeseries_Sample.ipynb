{
 "cells": [
  {
   "cell_type": "markdown",
   "metadata": {},
   "source": [
    "In order to run this notebook with the correct PYTHONPATH, you can use\n",
    "```\n",
    "$ ./e-mission-ipy.bash notebook\n",
    "```"
   ]
  },
  {
   "cell_type": "markdown",
   "metadata": {},
   "source": [
    "### Preferred access technique"
   ]
  },
  {
   "cell_type": "markdown",
   "metadata": {},
   "source": [
    "The preferred technique to access wrapper objects from the timeseries is to use the abstract timeseries interface. This makes it easier for us to switch to alternative timeseries implementations later"
   ]
  },
  {
   "cell_type": "code",
   "execution_count": 29,
   "metadata": {
    "collapsed": true
   },
   "outputs": [],
   "source": [
    "import emission.storage.timeseries.abstract_timeseries as esta\n",
    "import emission.storage.decorations.analysis_timeseries_queries as esda\n",
    "import emission.core.wrapper.entry as ecwe\n",
    "import emission.storage.decorations.trip_queries as esdt"
   ]
  },
  {
   "cell_type": "code",
   "execution_count": 30,
   "metadata": {
    "collapsed": true
   },
   "outputs": [],
   "source": [
    "from uuid import UUID"
   ]
  },
  {
   "cell_type": "code",
   "execution_count": 31,
   "metadata": {
    "collapsed": true
   },
   "outputs": [],
   "source": [
    "test_user_id = UUID(\"d1f337f6-fc03-41e0-ab5f-81705a59cdb6\") # replace with the uuid that you loaded"
   ]
  },
  {
   "cell_type": "code",
   "execution_count": 32,
   "metadata": {
    "collapsed": true
   },
   "outputs": [],
   "source": [
    "ts = esta.TimeSeries.get_time_series(test_user_id)"
   ]
  },
  {
   "cell_type": "markdown",
   "metadata": {},
   "source": [
    "#### Accessing entries directly"
   ]
  },
  {
   "cell_type": "code",
   "execution_count": 33,
   "metadata": {
    "collapsed": true
   },
   "outputs": [],
   "source": [
    "entry_it = ts.find_entries([\"analysis/cleaned_trip\"], time_query=None)"
   ]
  },
  {
   "cell_type": "markdown",
   "metadata": {},
   "source": [
    "All keys and their mapping to data model objects can be found in \n",
    "https://github.com/e-mission/e-mission-server/blob/master/emission/core/wrapper/entry.py"
   ]
  },
  {
   "cell_type": "code",
   "execution_count": 34,
   "metadata": {
    "collapsed": false
   },
   "outputs": [
    {
     "name": "stdout",
     "output_type": "stream",
     "text": [
      "=== Trip: {\"coordinates\": [-122.0876886, 37.3887767], \"type\": \"Point\"} -> {\"coordinates\": [-122.0820411, 37.3920436], \"type\": \"Point\"}\n",
      "  --- Section: {\"coordinates\": [-122.0876886, 37.3887767], \"type\": \"Point\"} -> {\"coordinates\": [-122.0773235, 37.3946683], \"type\": \"Point\"}  on  MotionTypes.BICYCLING\n",
      "  --- Section: {\"coordinates\": [-122.077133, 37.3944385], \"type\": \"Point\"} -> {\"coordinates\": [-122.0859763, 37.3983699], \"type\": \"Point\"}  on  MotionTypes.ON_FOOT\n",
      "  --- Section: {\"coordinates\": [-122.1031161, 37.4048536], \"type\": \"Point\"} -> {\"coordinates\": [-122.1651563, 37.4438859], \"type\": \"Point\"}  on  MotionTypes.IN_VEHICLE\n",
      "  --- Section: {\"coordinates\": [-122.1647388, 37.4438775], \"type\": \"Point\"} -> {\"coordinates\": [-122.1631988, 37.4459894], \"type\": \"Point\"}  on  MotionTypes.ON_FOOT\n",
      "  --- Section: {\"coordinates\": [-122.1631156, 37.4464546], \"type\": \"Point\"} -> {\"coordinates\": [-122.1658293, 37.4438399], \"type\": \"Point\"}  on  MotionTypes.BICYCLING\n",
      "  --- Section: {\"coordinates\": [-122.1653719, 37.4440403], \"type\": \"Point\"} -> {\"coordinates\": [-122.1559339, 37.4386299], \"type\": \"Point\"}  on  MotionTypes.ON_FOOT\n",
      "  --- Section: {\"coordinates\": [-122.1493823, 37.434156], \"type\": \"Point\"} -> {\"coordinates\": [-122.0762984, 37.3942677], \"type\": \"Point\"}  on  MotionTypes.IN_VEHICLE\n",
      "  --- Section: {\"coordinates\": [-122.0767434, 37.3945202], \"type\": \"Point\"} -> {\"coordinates\": [-122.0820411, 37.3920436], \"type\": \"Point\"}  on  MotionTypes.ON_FOOT\n",
      "=== Trip: {\"coordinates\": [-122.0820411, 37.3920436], \"type\": \"Point\"} -> {\"coordinates\": [-122.0862974, 37.3908925], \"type\": \"Point\"}\n",
      "  --- Section: {\"coordinates\": [-122.0820411, 37.3920436], \"type\": \"Point\"} -> {\"coordinates\": [-122.0862974, 37.3908925], \"type\": \"Point\"}  on  MotionTypes.ON_FOOT\n",
      "=== Trip: {\"coordinates\": [-122.0862974, 37.3908925], \"type\": \"Point\"} -> {\"coordinates\": [-122.0801222, 37.3921316], \"type\": \"Point\"}\n",
      "  --- Section: {\"coordinates\": [-122.0862974, 37.3908925], \"type\": \"Point\"} -> {\"coordinates\": [-122.0801222, 37.3921316], \"type\": \"Point\"}  on  MotionTypes.BICYCLING\n",
      "=== Trip: {\"coordinates\": [-122.0801222, 37.3921316], \"type\": \"Point\"} -> {\"coordinates\": [-122.1592342, 37.4438439], \"type\": \"Point\"}\n",
      "  --- Section: {\"coordinates\": [-122.0801222, 37.3921316], \"type\": \"Point\"} -> {\"coordinates\": [-122.0762501, 37.3942065], \"type\": \"Point\"}  on  MotionTypes.ON_FOOT\n",
      "  --- Section: {\"coordinates\": [-122.0950373, 37.4017601], \"type\": \"Point\"} -> {\"coordinates\": [-122.1650094, 37.4438782], \"type\": \"Point\"}  on  MotionTypes.IN_VEHICLE\n",
      "  --- Section: {\"coordinates\": [-122.163407, 37.4460016], \"type\": \"Point\"} -> {\"coordinates\": [-122.1592342, 37.4438439], \"type\": \"Point\"}  on  MotionTypes.ON_FOOT\n",
      "=== Trip: {\"coordinates\": [-122.1592342, 37.4438439], \"type\": \"Point\"} -> {\"coordinates\": [-122.0823243, 37.3793178], \"type\": \"Point\"}\n",
      "  --- Section: {\"coordinates\": [-122.1592342, 37.4438439], \"type\": \"Point\"} -> {\"coordinates\": [-122.1512854, 37.4459935], \"type\": \"Point\"}  on  MotionTypes.BICYCLING\n",
      "  --- Section: {\"coordinates\": [-122.1505072, 37.445167], \"type\": \"Point\"} -> {\"coordinates\": [-122.1563403, 37.4431504], \"type\": \"Point\"}  on  MotionTypes.ON_FOOT\n",
      "  --- Section: {\"coordinates\": [-122.1580011, 37.4432309], \"type\": \"Point\"} -> {\"coordinates\": [-122.1650686, 37.4427183], \"type\": \"Point\"}  on  MotionTypes.BICYCLING\n",
      "  --- Section: {\"coordinates\": [-122.1647299, 37.4432839], \"type\": \"Point\"} -> {\"coordinates\": [-122.1558074, 37.4385683], \"type\": \"Point\"}  on  MotionTypes.ON_FOOT\n",
      "  --- Section: {\"coordinates\": [-122.1443945, 37.4300808], \"type\": \"Point\"} -> {\"coordinates\": [-122.076204, 37.3941203], \"type\": \"Point\"}  on  MotionTypes.IN_VEHICLE\n",
      "  --- Section: {\"coordinates\": [-122.0764047, 37.3942661], \"type\": \"Point\"} -> {\"coordinates\": [-122.0851989, 37.3837378], \"type\": \"Point\"}  on  MotionTypes.ON_FOOT\n",
      "  --- Section: {\"coordinates\": [-122.086607, 37.3829828], \"type\": \"Point\"} -> {\"coordinates\": [-122.0823243, 37.3793178], \"type\": \"Point\"}  on  MotionTypes.BICYCLING\n",
      "=== Trip: {\"coordinates\": [-122.0823243, 37.3793178], \"type\": \"Point\"} -> {\"coordinates\": [-122.0862601, 37.3909372], \"type\": \"Point\"}\n",
      "  --- Section: {\"coordinates\": [-122.0823243, 37.3793178], \"type\": \"Point\"} -> {\"coordinates\": [-122.0862601, 37.3909372], \"type\": \"Point\"}  on  MotionTypes.BICYCLING\n"
     ]
    }
   ],
   "source": [
    "for ct in entry_it:\n",
    "    cte = ecwe.Entry(ct)\n",
    "    print \"=== Trip:\", cte.data.start_loc, \"->\", cte.data.end_loc\n",
    "    section_it = esdt.get_sections_for_trip(\"analysis/cleaned_section\", test_user_id, cte.get_id())\n",
    "    for sec in section_it:\n",
    "        print \"  --- Section:\", sec.data.start_loc, \"->\", sec.data.end_loc, \" on \", sec.data.sensed_mode"
   ]
  },
  {
   "cell_type": "markdown",
   "metadata": {},
   "source": [
    "#### Accessing a dataframe"
   ]
  },
  {
   "cell_type": "code",
   "execution_count": 35,
   "metadata": {
    "collapsed": true
   },
   "outputs": [],
   "source": [
    "ct_df = ts.get_data_df(\"analysis/cleaned_trip\", time_query=None)"
   ]
  },
  {
   "cell_type": "code",
   "execution_count": 36,
   "metadata": {
    "collapsed": false
   },
   "outputs": [
    {
     "data": {
      "text/plain": [
       "6"
      ]
     },
     "execution_count": 36,
     "metadata": {},
     "output_type": "execute_result"
    }
   ],
   "source": [
    "len(ct_df)"
   ]
  },
  {
   "cell_type": "code",
   "execution_count": 37,
   "metadata": {
    "collapsed": false
   },
   "outputs": [
    {
     "data": {
      "text/plain": [
       "Index([                    u'_id',                u'distance',\n",
       "                      u'duration',            u'end_fmt_time',\n",
       "                       u'end_loc',        u'end_local_dt_day',\n",
       "             u'end_local_dt_hour',     u'end_local_dt_minute',\n",
       "            u'end_local_dt_month',     u'end_local_dt_second',\n",
       "         u'end_local_dt_timezone',    u'end_local_dt_weekday',\n",
       "             u'end_local_dt_year',               u'end_place',\n",
       "                        u'end_ts',       u'metadata_write_ts',\n",
       "                      u'raw_trip',                  u'source',\n",
       "                u'start_fmt_time',               u'start_loc',\n",
       "            u'start_local_dt_day',     u'start_local_dt_hour',\n",
       "         u'start_local_dt_minute',    u'start_local_dt_month',\n",
       "         u'start_local_dt_second', u'start_local_dt_timezone',\n",
       "        u'start_local_dt_weekday',     u'start_local_dt_year',\n",
       "                   u'start_place',                u'start_ts',\n",
       "                       u'user_id'],\n",
       "      dtype='object')"
      ]
     },
     "execution_count": 37,
     "metadata": {},
     "output_type": "execute_result"
    }
   ],
   "source": [
    "ct_df.columns"
   ]
  },
  {
   "cell_type": "code",
   "execution_count": 38,
   "metadata": {
    "collapsed": false
   },
   "outputs": [
    {
     "data": {
      "text/html": [
       "<div>\n",
       "<style>\n",
       "    .dataframe thead tr:only-child th {\n",
       "        text-align: right;\n",
       "    }\n",
       "\n",
       "    .dataframe thead th {\n",
       "        text-align: left;\n",
       "    }\n",
       "\n",
       "    .dataframe tbody tr th {\n",
       "        vertical-align: top;\n",
       "    }\n",
       "</style>\n",
       "<table border=\"1\" class=\"dataframe\">\n",
       "  <thead>\n",
       "    <tr style=\"text-align: right;\">\n",
       "      <th></th>\n",
       "      <th>start_loc</th>\n",
       "      <th>end_loc</th>\n",
       "      <th>start_ts</th>\n",
       "      <th>end_ts</th>\n",
       "    </tr>\n",
       "  </thead>\n",
       "  <tbody>\n",
       "    <tr>\n",
       "      <th>0</th>\n",
       "      <td>{u'type': u'Point', u'coordinates': [-122.0876...</td>\n",
       "      <td>{u'type': u'Point', u'coordinates': [-122.0820...</td>\n",
       "      <td>1.437578e+09</td>\n",
       "      <td>1.437582e+09</td>\n",
       "    </tr>\n",
       "    <tr>\n",
       "      <th>1</th>\n",
       "      <td>{u'type': u'Point', u'coordinates': [-122.0820...</td>\n",
       "      <td>{u'type': u'Point', u'coordinates': [-122.0862...</td>\n",
       "      <td>1.437582e+09</td>\n",
       "      <td>1.437583e+09</td>\n",
       "    </tr>\n",
       "    <tr>\n",
       "      <th>2</th>\n",
       "      <td>{u'type': u'Point', u'coordinates': [-122.0862...</td>\n",
       "      <td>{u'type': u'Point', u'coordinates': [-122.0801...</td>\n",
       "      <td>1.437596e+09</td>\n",
       "      <td>1.437597e+09</td>\n",
       "    </tr>\n",
       "    <tr>\n",
       "      <th>3</th>\n",
       "      <td>{u'type': u'Point', u'coordinates': [-122.0801...</td>\n",
       "      <td>{u'type': u'Point', u'coordinates': [-122.1592...</td>\n",
       "      <td>1.437597e+09</td>\n",
       "      <td>1.437598e+09</td>\n",
       "    </tr>\n",
       "    <tr>\n",
       "      <th>4</th>\n",
       "      <td>{u'type': u'Point', u'coordinates': [-122.1592...</td>\n",
       "      <td>{u'type': u'Point', u'coordinates': [-122.0823...</td>\n",
       "      <td>1.437601e+09</td>\n",
       "      <td>1.437605e+09</td>\n",
       "    </tr>\n",
       "    <tr>\n",
       "      <th>5</th>\n",
       "      <td>{u'type': u'Point', u'coordinates': [-122.0823...</td>\n",
       "      <td>{u'type': u'Point', u'coordinates': [-122.0862...</td>\n",
       "      <td>1.437606e+09</td>\n",
       "      <td>1.437608e+09</td>\n",
       "    </tr>\n",
       "  </tbody>\n",
       "</table>\n",
       "</div>"
      ],
      "text/plain": [
       "                                           start_loc  \\\n",
       "0  {u'type': u'Point', u'coordinates': [-122.0876...   \n",
       "1  {u'type': u'Point', u'coordinates': [-122.0820...   \n",
       "2  {u'type': u'Point', u'coordinates': [-122.0862...   \n",
       "3  {u'type': u'Point', u'coordinates': [-122.0801...   \n",
       "4  {u'type': u'Point', u'coordinates': [-122.1592...   \n",
       "5  {u'type': u'Point', u'coordinates': [-122.0823...   \n",
       "\n",
       "                                             end_loc      start_ts  \\\n",
       "0  {u'type': u'Point', u'coordinates': [-122.0820...  1.437578e+09   \n",
       "1  {u'type': u'Point', u'coordinates': [-122.0862...  1.437582e+09   \n",
       "2  {u'type': u'Point', u'coordinates': [-122.0801...  1.437596e+09   \n",
       "3  {u'type': u'Point', u'coordinates': [-122.1592...  1.437597e+09   \n",
       "4  {u'type': u'Point', u'coordinates': [-122.0823...  1.437601e+09   \n",
       "5  {u'type': u'Point', u'coordinates': [-122.0862...  1.437606e+09   \n",
       "\n",
       "         end_ts  \n",
       "0  1.437582e+09  \n",
       "1  1.437583e+09  \n",
       "2  1.437597e+09  \n",
       "3  1.437598e+09  \n",
       "4  1.437605e+09  \n",
       "5  1.437608e+09  "
      ]
     },
     "execution_count": 38,
     "metadata": {},
     "output_type": "execute_result"
    }
   ],
   "source": [
    "ct_df[[\"start_loc\", \"end_loc\", \"start_ts\", \"end_ts\"]]"
   ]
  },
  {
   "cell_type": "code",
   "execution_count": 39,
   "metadata": {
    "collapsed": true
   },
   "outputs": [],
   "source": [
    "cs_df = ts.get_data_df(\"analysis/cleaned_section\", time_query=None)"
   ]
  },
  {
   "cell_type": "code",
   "execution_count": 40,
   "metadata": {
    "collapsed": false
   },
   "outputs": [
    {
     "data": {
      "text/plain": [
       "21"
      ]
     },
     "execution_count": 40,
     "metadata": {},
     "output_type": "execute_result"
    }
   ],
   "source": [
    "len(cs_df)"
   ]
  },
  {
   "cell_type": "code",
   "execution_count": 41,
   "metadata": {
    "collapsed": false
   },
   "outputs": [
    {
     "data": {
      "text/plain": [
       "Index([                    u'_id',                u'distance',\n",
       "                     u'distances',                u'duration',\n",
       "                  u'end_fmt_time',                 u'end_loc',\n",
       "              u'end_local_dt_day',       u'end_local_dt_hour',\n",
       "           u'end_local_dt_minute',      u'end_local_dt_month',\n",
       "           u'end_local_dt_second',   u'end_local_dt_timezone',\n",
       "          u'end_local_dt_weekday',       u'end_local_dt_year',\n",
       "                      u'end_stop',                  u'end_ts',\n",
       "             u'metadata_write_ts',             u'sensed_mode',\n",
       "                        u'source',                  u'speeds',\n",
       "                u'start_fmt_time',               u'start_loc',\n",
       "            u'start_local_dt_day',     u'start_local_dt_hour',\n",
       "         u'start_local_dt_minute',    u'start_local_dt_month',\n",
       "         u'start_local_dt_second', u'start_local_dt_timezone',\n",
       "        u'start_local_dt_weekday',     u'start_local_dt_year',\n",
       "                    u'start_stop',                u'start_ts',\n",
       "                       u'trip_id',                 u'user_id'],\n",
       "      dtype='object')"
      ]
     },
     "execution_count": 41,
     "metadata": {},
     "output_type": "execute_result"
    }
   ],
   "source": [
    "cs_df.columns"
   ]
  },
  {
   "cell_type": "code",
   "execution_count": 12,
   "metadata": {
    "collapsed": false
   },
   "outputs": [
    {
     "data": {
      "text/html": [
       "<div>\n",
       "<style>\n",
       "    .dataframe thead tr:only-child th {\n",
       "        text-align: right;\n",
       "    }\n",
       "\n",
       "    .dataframe thead th {\n",
       "        text-align: left;\n",
       "    }\n",
       "\n",
       "    .dataframe tbody tr th {\n",
       "        vertical-align: top;\n",
       "    }\n",
       "</style>\n",
       "<table border=\"1\" class=\"dataframe\">\n",
       "  <thead>\n",
       "    <tr style=\"text-align: right;\">\n",
       "      <th></th>\n",
       "      <th>start_loc</th>\n",
       "      <th>end_loc</th>\n",
       "      <th>start_ts</th>\n",
       "      <th>end_ts</th>\n",
       "      <th>sensed_mode</th>\n",
       "    </tr>\n",
       "  </thead>\n",
       "  <tbody>\n",
       "    <tr>\n",
       "      <th>0</th>\n",
       "      <td>{u'type': u'Point', u'coordinates': [-122.0876...</td>\n",
       "      <td>{u'type': u'Point', u'coordinates': [-122.0773...</td>\n",
       "      <td>1.437578e+09</td>\n",
       "      <td>1.437578e+09</td>\n",
       "      <td>1</td>\n",
       "    </tr>\n",
       "    <tr>\n",
       "      <th>1</th>\n",
       "      <td>{u'type': u'Point', u'coordinates': [-122.0771...</td>\n",
       "      <td>{u'type': u'Point', u'coordinates': [-122.0859...</td>\n",
       "      <td>1.437578e+09</td>\n",
       "      <td>1.437579e+09</td>\n",
       "      <td>2</td>\n",
       "    </tr>\n",
       "    <tr>\n",
       "      <th>2</th>\n",
       "      <td>{u'type': u'Point', u'coordinates': [-122.1031...</td>\n",
       "      <td>{u'type': u'Point', u'coordinates': [-122.1651...</td>\n",
       "      <td>1.437579e+09</td>\n",
       "      <td>1.437580e+09</td>\n",
       "      <td>0</td>\n",
       "    </tr>\n",
       "    <tr>\n",
       "      <th>3</th>\n",
       "      <td>{u'type': u'Point', u'coordinates': [-122.1647...</td>\n",
       "      <td>{u'type': u'Point', u'coordinates': [-122.1631...</td>\n",
       "      <td>1.437580e+09</td>\n",
       "      <td>1.437580e+09</td>\n",
       "      <td>2</td>\n",
       "    </tr>\n",
       "    <tr>\n",
       "      <th>4</th>\n",
       "      <td>{u'type': u'Point', u'coordinates': [-122.1631...</td>\n",
       "      <td>{u'type': u'Point', u'coordinates': [-122.1658...</td>\n",
       "      <td>1.437580e+09</td>\n",
       "      <td>1.437581e+09</td>\n",
       "      <td>1</td>\n",
       "    </tr>\n",
       "    <tr>\n",
       "      <th>5</th>\n",
       "      <td>{u'type': u'Point', u'coordinates': [-122.1653...</td>\n",
       "      <td>{u'type': u'Point', u'coordinates': [-122.1559...</td>\n",
       "      <td>1.437581e+09</td>\n",
       "      <td>1.437581e+09</td>\n",
       "      <td>2</td>\n",
       "    </tr>\n",
       "    <tr>\n",
       "      <th>6</th>\n",
       "      <td>{u'type': u'Point', u'coordinates': [-122.1493...</td>\n",
       "      <td>{u'type': u'Point', u'coordinates': [-122.0762...</td>\n",
       "      <td>1.437581e+09</td>\n",
       "      <td>1.437582e+09</td>\n",
       "      <td>0</td>\n",
       "    </tr>\n",
       "    <tr>\n",
       "      <th>7</th>\n",
       "      <td>{u'type': u'Point', u'coordinates': [-122.0767...</td>\n",
       "      <td>{u'type': u'Point', u'coordinates': [-122.0820...</td>\n",
       "      <td>1.437582e+09</td>\n",
       "      <td>1.437582e+09</td>\n",
       "      <td>2</td>\n",
       "    </tr>\n",
       "    <tr>\n",
       "      <th>8</th>\n",
       "      <td>{u'type': u'Point', u'coordinates': [-122.0820...</td>\n",
       "      <td>{u'type': u'Point', u'coordinates': [-122.0862...</td>\n",
       "      <td>1.437582e+09</td>\n",
       "      <td>1.437583e+09</td>\n",
       "      <td>2</td>\n",
       "    </tr>\n",
       "    <tr>\n",
       "      <th>9</th>\n",
       "      <td>{u'type': u'Point', u'coordinates': [-122.0862...</td>\n",
       "      <td>{u'type': u'Point', u'coordinates': [-122.0801...</td>\n",
       "      <td>1.437596e+09</td>\n",
       "      <td>1.437597e+09</td>\n",
       "      <td>1</td>\n",
       "    </tr>\n",
       "    <tr>\n",
       "      <th>10</th>\n",
       "      <td>{u'type': u'Point', u'coordinates': [-122.0801...</td>\n",
       "      <td>{u'type': u'Point', u'coordinates': [-122.0762...</td>\n",
       "      <td>1.437597e+09</td>\n",
       "      <td>1.437597e+09</td>\n",
       "      <td>2</td>\n",
       "    </tr>\n",
       "    <tr>\n",
       "      <th>11</th>\n",
       "      <td>{u'type': u'Point', u'coordinates': [-122.0950...</td>\n",
       "      <td>{u'type': u'Point', u'coordinates': [-122.1650...</td>\n",
       "      <td>1.437597e+09</td>\n",
       "      <td>1.437598e+09</td>\n",
       "      <td>0</td>\n",
       "    </tr>\n",
       "    <tr>\n",
       "      <th>12</th>\n",
       "      <td>{u'type': u'Point', u'coordinates': [-122.1634...</td>\n",
       "      <td>{u'type': u'Point', u'coordinates': [-122.1592...</td>\n",
       "      <td>1.437598e+09</td>\n",
       "      <td>1.437598e+09</td>\n",
       "      <td>2</td>\n",
       "    </tr>\n",
       "    <tr>\n",
       "      <th>13</th>\n",
       "      <td>{u'type': u'Point', u'coordinates': [-122.1592...</td>\n",
       "      <td>{u'type': u'Point', u'coordinates': [-122.1512...</td>\n",
       "      <td>1.437601e+09</td>\n",
       "      <td>1.437601e+09</td>\n",
       "      <td>1</td>\n",
       "    </tr>\n",
       "    <tr>\n",
       "      <th>14</th>\n",
       "      <td>{u'type': u'Point', u'coordinates': [-122.1505...</td>\n",
       "      <td>{u'type': u'Point', u'coordinates': [-122.1563...</td>\n",
       "      <td>1.437602e+09</td>\n",
       "      <td>1.437602e+09</td>\n",
       "      <td>2</td>\n",
       "    </tr>\n",
       "    <tr>\n",
       "      <th>15</th>\n",
       "      <td>{u'type': u'Point', u'coordinates': [-122.1580...</td>\n",
       "      <td>{u'type': u'Point', u'coordinates': [-122.1650...</td>\n",
       "      <td>1.437602e+09</td>\n",
       "      <td>1.437603e+09</td>\n",
       "      <td>1</td>\n",
       "    </tr>\n",
       "    <tr>\n",
       "      <th>16</th>\n",
       "      <td>{u'type': u'Point', u'coordinates': [-122.1647...</td>\n",
       "      <td>{u'type': u'Point', u'coordinates': [-122.1558...</td>\n",
       "      <td>1.437603e+09</td>\n",
       "      <td>1.437603e+09</td>\n",
       "      <td>2</td>\n",
       "    </tr>\n",
       "    <tr>\n",
       "      <th>17</th>\n",
       "      <td>{u'type': u'Point', u'coordinates': [-122.1443...</td>\n",
       "      <td>{u'type': u'Point', u'coordinates': [-122.0762...</td>\n",
       "      <td>1.437603e+09</td>\n",
       "      <td>1.437604e+09</td>\n",
       "      <td>0</td>\n",
       "    </tr>\n",
       "    <tr>\n",
       "      <th>18</th>\n",
       "      <td>{u'type': u'Point', u'coordinates': [-122.0764...</td>\n",
       "      <td>{u'type': u'Point', u'coordinates': [-122.0851...</td>\n",
       "      <td>1.437604e+09</td>\n",
       "      <td>1.437604e+09</td>\n",
       "      <td>2</td>\n",
       "    </tr>\n",
       "    <tr>\n",
       "      <th>19</th>\n",
       "      <td>{u'type': u'Point', u'coordinates': [-122.0866...</td>\n",
       "      <td>{u'type': u'Point', u'coordinates': [-122.0823...</td>\n",
       "      <td>1.437604e+09</td>\n",
       "      <td>1.437605e+09</td>\n",
       "      <td>1</td>\n",
       "    </tr>\n",
       "    <tr>\n",
       "      <th>20</th>\n",
       "      <td>{u'type': u'Point', u'coordinates': [-122.0823...</td>\n",
       "      <td>{u'type': u'Point', u'coordinates': [-122.0862...</td>\n",
       "      <td>1.437606e+09</td>\n",
       "      <td>1.437608e+09</td>\n",
       "      <td>1</td>\n",
       "    </tr>\n",
       "  </tbody>\n",
       "</table>\n",
       "</div>"
      ],
      "text/plain": [
       "                                            start_loc  \\\n",
       "0   {u'type': u'Point', u'coordinates': [-122.0876...   \n",
       "1   {u'type': u'Point', u'coordinates': [-122.0771...   \n",
       "2   {u'type': u'Point', u'coordinates': [-122.1031...   \n",
       "3   {u'type': u'Point', u'coordinates': [-122.1647...   \n",
       "4   {u'type': u'Point', u'coordinates': [-122.1631...   \n",
       "5   {u'type': u'Point', u'coordinates': [-122.1653...   \n",
       "6   {u'type': u'Point', u'coordinates': [-122.1493...   \n",
       "7   {u'type': u'Point', u'coordinates': [-122.0767...   \n",
       "8   {u'type': u'Point', u'coordinates': [-122.0820...   \n",
       "9   {u'type': u'Point', u'coordinates': [-122.0862...   \n",
       "10  {u'type': u'Point', u'coordinates': [-122.0801...   \n",
       "11  {u'type': u'Point', u'coordinates': [-122.0950...   \n",
       "12  {u'type': u'Point', u'coordinates': [-122.1634...   \n",
       "13  {u'type': u'Point', u'coordinates': [-122.1592...   \n",
       "14  {u'type': u'Point', u'coordinates': [-122.1505...   \n",
       "15  {u'type': u'Point', u'coordinates': [-122.1580...   \n",
       "16  {u'type': u'Point', u'coordinates': [-122.1647...   \n",
       "17  {u'type': u'Point', u'coordinates': [-122.1443...   \n",
       "18  {u'type': u'Point', u'coordinates': [-122.0764...   \n",
       "19  {u'type': u'Point', u'coordinates': [-122.0866...   \n",
       "20  {u'type': u'Point', u'coordinates': [-122.0823...   \n",
       "\n",
       "                                              end_loc      start_ts  \\\n",
       "0   {u'type': u'Point', u'coordinates': [-122.0773...  1.437578e+09   \n",
       "1   {u'type': u'Point', u'coordinates': [-122.0859...  1.437578e+09   \n",
       "2   {u'type': u'Point', u'coordinates': [-122.1651...  1.437579e+09   \n",
       "3   {u'type': u'Point', u'coordinates': [-122.1631...  1.437580e+09   \n",
       "4   {u'type': u'Point', u'coordinates': [-122.1658...  1.437580e+09   \n",
       "5   {u'type': u'Point', u'coordinates': [-122.1559...  1.437581e+09   \n",
       "6   {u'type': u'Point', u'coordinates': [-122.0762...  1.437581e+09   \n",
       "7   {u'type': u'Point', u'coordinates': [-122.0820...  1.437582e+09   \n",
       "8   {u'type': u'Point', u'coordinates': [-122.0862...  1.437582e+09   \n",
       "9   {u'type': u'Point', u'coordinates': [-122.0801...  1.437596e+09   \n",
       "10  {u'type': u'Point', u'coordinates': [-122.0762...  1.437597e+09   \n",
       "11  {u'type': u'Point', u'coordinates': [-122.1650...  1.437597e+09   \n",
       "12  {u'type': u'Point', u'coordinates': [-122.1592...  1.437598e+09   \n",
       "13  {u'type': u'Point', u'coordinates': [-122.1512...  1.437601e+09   \n",
       "14  {u'type': u'Point', u'coordinates': [-122.1563...  1.437602e+09   \n",
       "15  {u'type': u'Point', u'coordinates': [-122.1650...  1.437602e+09   \n",
       "16  {u'type': u'Point', u'coordinates': [-122.1558...  1.437603e+09   \n",
       "17  {u'type': u'Point', u'coordinates': [-122.0762...  1.437603e+09   \n",
       "18  {u'type': u'Point', u'coordinates': [-122.0851...  1.437604e+09   \n",
       "19  {u'type': u'Point', u'coordinates': [-122.0823...  1.437604e+09   \n",
       "20  {u'type': u'Point', u'coordinates': [-122.0862...  1.437606e+09   \n",
       "\n",
       "          end_ts  sensed_mode  \n",
       "0   1.437578e+09            1  \n",
       "1   1.437579e+09            2  \n",
       "2   1.437580e+09            0  \n",
       "3   1.437580e+09            2  \n",
       "4   1.437581e+09            1  \n",
       "5   1.437581e+09            2  \n",
       "6   1.437582e+09            0  \n",
       "7   1.437582e+09            2  \n",
       "8   1.437583e+09            2  \n",
       "9   1.437597e+09            1  \n",
       "10  1.437597e+09            2  \n",
       "11  1.437598e+09            0  \n",
       "12  1.437598e+09            2  \n",
       "13  1.437601e+09            1  \n",
       "14  1.437602e+09            2  \n",
       "15  1.437603e+09            1  \n",
       "16  1.437603e+09            2  \n",
       "17  1.437604e+09            0  \n",
       "18  1.437604e+09            2  \n",
       "19  1.437605e+09            1  \n",
       "20  1.437608e+09            1  "
      ]
     },
     "execution_count": 12,
     "metadata": {},
     "output_type": "execute_result"
    }
   ],
   "source": [
    "cs_df[[\"start_loc\", \"end_loc\", \"start_ts\", \"end_ts\", \"sensed_mode\"]]"
   ]
  },
  {
   "cell_type": "markdown",
   "metadata": {},
   "source": [
    "### Direct mongodb queries"
   ]
  },
  {
   "cell_type": "markdown",
   "metadata": {},
   "source": [
    "You can also use direct mongodb queries during exploratory work. I do ask that you create a storage decorator (`emission/storage/decorations`) when you submit a pull request for ongoing use"
   ]
  },
  {
   "cell_type": "code",
   "execution_count": null,
   "metadata": {
    "collapsed": true
   },
   "outputs": [],
   "source": [
    "import emission.core.get_database as edb"
   ]
  },
  {
   "cell_type": "code",
   "execution_count": null,
   "metadata": {
    "collapsed": true
   },
   "outputs": [],
   "source": [
    "edb.get_timeseries_db().find_one()"
   ]
  },
  {
   "cell_type": "code",
   "execution_count": null,
   "metadata": {
    "collapsed": true
   },
   "outputs": [],
   "source": [
    "edb.get_timeseries_db().distinct(\"metadata.key\")"
   ]
  },
  {
   "cell_type": "markdown",
   "metadata": {},
   "source": [
    "Note that in this case, you need to know whether to use the `timeseries` or the `analysis_timeseries` collection"
   ]
  },
  {
   "cell_type": "code",
   "execution_count": null,
   "metadata": {
    "collapsed": true
   },
   "outputs": [],
   "source": [
    "edb.get_analysis_timeseries_db().distinct(\"metadata.key\")"
   ]
  },
  {
   "cell_type": "code",
   "execution_count": null,
   "metadata": {
    "collapsed": true
   },
   "outputs": [],
   "source": [
    "edb.get_analysis_timeseries_db().find({\"user_id\": test_user_id, \"metadata.key\": \"analysis/cleaned_trip\"}).count()"
   ]
  },
  {
   "cell_type": "markdown",
   "metadata": {},
   "source": [
    "In particular, you can use this to access entries that are not in the timeseries"
   ]
  },
  {
   "cell_type": "code",
   "execution_count": null,
   "metadata": {
    "collapsed": true
   },
   "outputs": [],
   "source": [
    "edb.get_uuid_db().distinct(\"uuid\")"
   ]
  },
  {
   "cell_type": "markdown",
   "metadata": {},
   "source": [
    "### Timeline"
   ]
  },
  {
   "cell_type": "markdown",
   "metadata": {},
   "source": [
    "The trips and places maintain links to each other - e.g. `start_place`, `end_place`"
   ]
  },
  {
   "cell_type": "code",
   "execution_count": null,
   "metadata": {
    "collapsed": true
   },
   "outputs": [],
   "source": [
    "ct_df[[\"start_place\", \"end_place\"]]"
   ]
  },
  {
   "cell_type": "markdown",
   "metadata": {},
   "source": [
    "These are _primary key links_ to other entries in the database. It would be useful to have a doubly linked list representing this properly. The Timeline helps with that."
   ]
  },
  {
   "cell_type": "code",
   "execution_count": null,
   "metadata": {
    "collapsed": true
   },
   "outputs": [],
   "source": [
    "import emission.storage.decorations.timeline as esdl"
   ]
  },
  {
   "cell_type": "code",
   "execution_count": null,
   "metadata": {
    "collapsed": true
   },
   "outputs": [],
   "source": [
    "tl = esdl.get_cleaned_timeline(test_user_id, ct_df.iloc[0].start_ts, ct_df.iloc[-1].end_ts)"
   ]
  },
  {
   "cell_type": "code",
   "execution_count": null,
   "metadata": {
    "collapsed": true
   },
   "outputs": [],
   "source": [
    "for e in tl:\n",
    "    print e.metadata.key"
   ]
  },
  {
   "cell_type": "code",
   "execution_count": null,
   "metadata": {
    "collapsed": true
   },
   "outputs": [],
   "source": [
    "stl = esdt.get_cleaned_timeline_for_trip(test_user_id, tl.first_trip().get_id())"
   ]
  },
  {
   "cell_type": "code",
   "execution_count": null,
   "metadata": {
    "collapsed": true
   },
   "outputs": [],
   "source": [
    "for e in stl:\n",
    "    print e.metadata.key"
   ]
  },
  {
   "cell_type": "code",
   "execution_count": null,
   "metadata": {
    "collapsed": true
   },
   "outputs": [],
   "source": [
    "stl = esdt.get_cleaned_timeline_for_trip(test_user_id, tl.last_trip().get_id())"
   ]
  },
  {
   "cell_type": "code",
   "execution_count": null,
   "metadata": {
    "collapsed": true
   },
   "outputs": [],
   "source": [
    "for e in stl:\n",
    "    print e.metadata.key"
   ]
  },
  {
   "cell_type": "markdown",
   "metadata": {
    "collapsed": true
   },
   "source": [
    "## Getting trip and section details ##"
   ]
  },
  {
   "cell_type": "markdown",
   "metadata": {},
   "source": [
    "Once we have trip and section objects, we can retrieve the sensed data associated with them by querying for data in various streams that falls within the time ranges associated with the trip/section. Here again, our architecture of storing the analysis results as a separate datastream makes it easy to retrieve data at various levels of processing."
   ]
  },
  {
   "cell_type": "markdown",
   "metadata": {},
   "source": [
    "\n",
    "### Get locations with no processing, basic filtering and resampling for the first trip ###"
   ]
  },
  {
   "cell_type": "code",
   "execution_count": null,
   "metadata": {
    "collapsed": true
   },
   "outputs": [],
   "source": [
    "all_locs = ts.get_data_df(\"background/location\",\n",
    "                               time_query = esda.get_time_query_for_trip_like(\n",
    "                                   \"analysis/cleaned_section\", ct_df.iloc[0]._id))\n",
    "\n",
    "filtered_locs = ts.get_data_df(\"background/filtered_location\",\n",
    "                               time_query = esda.get_time_query_for_trip_like(\n",
    "                                   \"analysis/cleaned_section\", ct_df.iloc[0]._id))\n",
    "\n",
    "resampled_locs = ts.get_data_df(\"analysis/recreated_location\",\n",
    "                                 time_query = esda.get_time_query_for_trip_like(\n",
    "                                   \"analysis/cleaned_section\", ct_df.iloc[0]._id))\n",
    "print(\"Locations go from all = %d -> filtered = %d -> resampled = %d\" % (len(all_locs),\n",
    "                                                                         len(filtered_locs),\n",
    "                                                                         len(resampled_locs)))"
   ]
  },
  {
   "cell_type": "markdown",
   "metadata": {},
   "source": [
    "### Get the raw motion activity, in case you want to do different segmentation ###"
   ]
  },
  {
   "cell_type": "code",
   "execution_count": null,
   "metadata": {
    "collapsed": true
   },
   "outputs": [],
   "source": [
    "all_activity = ts.get_data_df(\"background/motion_activity\",\n",
    "                               esda.get_time_query_for_trip_like(\n",
    "                                   \"analysis/cleaned_section\", ct_df.iloc[0]._id))"
   ]
  },
  {
   "cell_type": "code",
   "execution_count": null,
   "metadata": {
    "collapsed": true
   },
   "outputs": [],
   "source": [
    "all_activity.columns"
   ]
  },
  {
   "cell_type": "code",
   "execution_count": null,
   "metadata": {
    "collapsed": true
   },
   "outputs": [],
   "source": [
    "import emission.core.wrapper.motionactivity as ecwm\n",
    "\n",
    "print(\"Found %d walking entries, %d on_foot entries\" % (len(all_activity[all_activity.type == ecwm.MotionTypes.WALKING.value]), \n",
    "                                    len(all_activity[all_activity.type == ecwm.MotionTypes.ON_FOOT.value])))\n",
    "print(\"Found %d motorized entries\" % (len(all_activity[all_activity.type == ecwm.MotionTypes.IN_VEHICLE.value])))"
   ]
  },
  {
   "cell_type": "markdown",
   "metadata": {},
   "source": [
    "### Plot the location points ###"
   ]
  },
  {
   "cell_type": "markdown",
   "metadata": {},
   "source": [
    "For this to work, you need a custom version of folium which supports my custom geojson plugin.\n",
    "This version is available at http://cs.berkeley.edu/~shankari/folium.zip\n",
    "and needs to be unzipped into the e-mission-server directory.\n",
    "\n",
    "TODO: Switch to the current version of folium, which supposedly supports geojson out of the box instead of this hacky solution."
   ]
  },
  {
   "cell_type": "code",
   "execution_count": null,
   "metadata": {
    "collapsed": true
   },
   "outputs": [],
   "source": [
    "import emission.analysis.plotting.geojson.geojson_feature_converter as gfc\n",
    "import emission.analysis.plotting.leaflet_osm.ipython_helper as ipy\n",
    "import emission.analysis.plotting.leaflet_osm.our_plotter as lo"
   ]
  },
  {
   "cell_type": "code",
   "execution_count": null,
   "metadata": {
    "collapsed": true
   },
   "outputs": [],
   "source": [
    "ipy.inline_maps([lo.get_maps_for_geojson_unsectioned([gfc.get_feature_list_from_df(all_locs)])])"
   ]
  },
  {
   "cell_type": "code",
   "execution_count": null,
   "metadata": {
    "collapsed": true
   },
   "outputs": [],
   "source": [
    "ipy.inline_maps([lo.get_maps_for_geojson_unsectioned([gfc.get_feature_list_from_df(all_locs),\n",
    "                                                      gfc.get_feature_list_from_df(filtered_locs),\n",
    "                                                      gfc.get_feature_list_from_df(resampled_locs)])])"
   ]
  },
  {
   "cell_type": "code",
   "execution_count": null,
   "metadata": {
    "collapsed": true
   },
   "outputs": [],
   "source": []
  }
 ],
 "metadata": {
  "kernelspec": {
   "display_name": "Python [py27]",
   "language": "python",
   "name": "Python [py27]"
  },
  "language_info": {
   "codemirror_mode": {
    "name": "ipython",
    "version": 2
   },
   "file_extension": ".py",
   "mimetype": "text/x-python",
   "name": "python",
   "nbconvert_exporter": "python",
   "pygments_lexer": "ipython2",
   "version": "2.7.13"
  }
 },
 "nbformat": 4,
 "nbformat_minor": 1
}
