{
 "metadata": {
  "name": "",
  "signature": "sha256:a017cb0a2db2e9f2fc9f14f6e54c9232093227d4fba3af99b71622149617dd1a"
 },
 "nbformat": 3,
 "nbformat_minor": 0,
 "worksheets": []
}